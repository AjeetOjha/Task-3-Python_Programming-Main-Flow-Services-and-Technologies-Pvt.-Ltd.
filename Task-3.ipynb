{
 "cells": [
  {
   "cell_type": "code",
   "execution_count": 44,
   "id": "72740665-7506-4fd2-9728-2348120705b0",
   "metadata": {},
   "outputs": [
    {
     "name": "stdout",
     "output_type": "stream",
     "text": [
      "Page Successfully Scraped!\n"
     ]
    }
   ],
   "source": [
    "#  Basic Web Scraper Setup with BeautifulSoup\n",
    "import requests\n",
    "from bs4 import BeautifulSoup\n",
    "\n",
    "scp=\"https://en.wikipedia.org/wiki/Main_Page\"    #Assign URL of a website  to scrap\n",
    "response=requests.get(scp)                       #GET request to to fetch the website content\n",
    "\n",
    "if response.status_code==200:\n",
    "    soup=BeautifulSoup(response.content,\"html.parser\")\n",
    "    print(\"Page Successfully Scraped!\")\n",
    "else:\n",
    "    print(\"Failed to retrieve the page.\")"
   ]
  },
  {
   "cell_type": "code",
   "execution_count": 45,
   "id": "af696ed9-c970-4b01-9a75-f7798d06c0f6",
   "metadata": {
    "scrolled": true
   },
   "outputs": [
    {
     "name": "stdout",
     "output_type": "stream",
     "text": [
      "Links:\n",
      " ['#bodyContent', '/wiki/Main_Page', '/wiki/Wikipedia:Contents', '/wiki/Portal:Current_events', '/wiki/Special:Random', '/wiki/Wikipedia:About', '//en.wikipedia.org/wiki/Wikipedia:Contact_us', '/wiki/Help:Contents', '/wiki/Help:Introduction', '/wiki/Wikipedia:Community_portal', '/wiki/Special:RecentChanges', '/wiki/Wikipedia:File_upload_wizard', '/wiki/Main_Page', '/wiki/Special:Search', 'https://donate.wikimedia.org/wiki/Special:FundraiserRedirector?utm_source=donate&utm_medium=sidebar&utm_campaign=C13_en.wikipedia.org&uselang=en', '/w/index.php?title=Special:CreateAccount&returnto=Main+Page', '/w/index.php?title=Special:UserLogin&returnto=Main+Page', '/w/index.php?title=Special:CreateAccount&returnto=Main+Page', '/w/index.php?title=Special:UserLogin&returnto=Main+Page', '/wiki/Help:Introduction', '/wiki/Special:MyContributions', '/wiki/Special:MyTalk', '/wiki/Main_Page', '/wiki/Talk:Main_Page', '/wiki/Main_Page', '/w/index.php?title=Main_Page&action=edit', '/w/index.php?title=Main_Page&action=history', '/wiki/Main_Page', '/w/index.php?title=Main_Page&action=edit', '/w/index.php?title=Main_Page&action=history', '/wiki/Special:WhatLinksHere/Main_Page', '/wiki/Special:RecentChangesLinked/Main_Page', '/wiki/Wikipedia:File_Upload_Wizard', '/wiki/Special:SpecialPages', '/w/index.php?title=Main_Page&oldid=1225315602', '/w/index.php?title=Main_Page&action=info', '/w/index.php?title=Special:CiteThisPage&page=Main_Page&id=1225315602&wpFormIdentifier=titleform', '/w/index.php?title=Special:UrlShortener&url=https%3A%2F%2Fen.wikipedia.org%2Fwiki%2FMain_Page', '/w/index.php?title=Special:QrCode&url=https%3A%2F%2Fen.wikipedia.org%2Fwiki%2FMain_Page', '/w/index.php?title=Special:DownloadAsPdf&page=Main_Page&action=show-download-screen', '/w/index.php?title=Main_Page&printable=yes', 'https://commons.wikimedia.org/wiki/Main_Page', 'https://foundation.wikimedia.org/wiki/Home', 'https://www.mediawiki.org/wiki/MediaWiki', 'https://meta.wikimedia.org/wiki/Main_Page', 'https://outreach.wikimedia.org/wiki/Main_Page', 'https://wikisource.org/wiki/Main_Page', 'https://species.wikimedia.org/wiki/Main_Page', 'https://en.wikibooks.org/wiki/Main_Page', 'https://www.wikidata.org/wiki/Wikidata:Main_Page', 'https://www.wikifunctions.org/wiki/Wikifunctions:Main_Page', 'https://wikimania.wikimedia.org/wiki/Wikimania', 'https://en.wikinews.org/wiki/Main_Page', 'https://en.wikiquote.org/wiki/Main_Page', 'https://en.wikisource.org/wiki/Main_Page', 'https://en.wikiversity.org/wiki/Wikiversity:Main_Page', 'https://en.wikivoyage.org/wiki/Main_Page', 'https://en.wiktionary.org/wiki/Wiktionary:Main_Page', 'https://www.wikidata.org/wiki/Special:EntityPage/Q5296', '/wiki/Wikipedia', '/wiki/Free_content', '/wiki/Encyclopedia', '/wiki/Help:Introduction_to_Wikipedia', '/wiki/Special:Statistics', '/wiki/English_language', '/wiki/File:Aly,_the_Mysterious_Egyptian.jpg', '/wiki/Hadji_Ali', '/wiki/Vaudeville', '/wiki/Professional_regurgitation', '/wiki/Water_spouting', '/wiki/Kerosene', '/wiki/Flamethrower', '/wiki/Fire_extinguisher', '/wiki/Prop', '/wiki/Nicholas_II', '/wiki/Johns_Hopkins_University', '/wiki/Hadji_Ali', '/wiki/Katy_Perry', '/wiki/Fus%C5%8D-class_battleship', '/wiki/Umbriel', '/wiki/Wikipedia:Today%27s_featured_article/October_2024', 'https://lists.wikimedia.org/postorius/lists/daily-article-l.lists.wikimedia.org/', '/wiki/Wikipedia:Featured_articles', '/wiki/Wikipedia:About_Today%27s_featured_article', '/wiki/File:New_York_Hall_of_Science_(48613180593).jpg', '/wiki/New_York_Hall_of_Science', '/wiki/Yankee_Stadium_(1923)', '/wiki/George_Bernard_Shaw', '/wiki/Hilaire_Belloc', '/wiki/G._K._Chesterton', '/wiki/Magic_(play)', '/wiki/Hugh_Bunel', '/wiki/American_Writers', '/wiki/William_Lloyd_Garrison', '/wiki/John_Neal_(writer)', '/wiki/Druze', '/wiki/Saleh_Shahin', '/wiki/Nan_Nan_Resources', '/wiki/Dusko_Doder', '/wiki/Yuri_Andropov', '/wiki/List_of_leaders_of_the_Soviet_Union', '/wiki/Clare_embroidery', '/wiki/Chocolate_in_savory_cooking', '/wiki/Wikipedia:Recent_additions', '/wiki/Help:Your_first_article', '/wiki/Template_talk:Did_you_know', '/wiki/File:Turkish_Aerospace_Industries_headquarters_attack_perpetrators.jpg', '/wiki/2024_Turkish_Aerospace_Industries_headquarters_attack', '/wiki/Kurdistan_Workers%27_Party', '/wiki/Turkish_Aerospace_Industries', '/wiki/Ankara', '/wiki/Tropical_Storm_Trami_(2024)', '/wiki/2024_Moldovan_European_Union_membership_referendum', '/wiki/Member_state_of_the_European_Union', '/wiki/Yahya_Sinwar', '/wiki/Hamas', '/wiki/Killing_of_Yahya_Sinwar', '/wiki/Israeli_invasion_of_the_Gaza_Strip', '/wiki/Portal:Current_events', '/wiki/Israel%E2%80%93Hamas_war', '/wiki/Israel%E2%80%93Hezbollah_conflict_(2023%E2%80%93present)', '/wiki/Russian_invasion_of_Ukraine', '/wiki/Timeline_of_the_Russian_invasion_of_Ukraine_(1_August_2024_%E2%80%93_present)', '/wiki/Sudanese_civil_war_(2023%E2%80%93present)', '/wiki/Timeline_of_the_Sudanese_civil_war_(2024)', '/wiki/Deaths_in_2024', '/wiki/Phil_Lesh', '/wiki/Barbara_Kolb', '/wiki/Janusz_Olejniczak', '/wiki/Michel_Klein_(veterinarian)', '/wiki/Gustavo_Guti%C3%A9rrez', '/wiki/Grizzly_399', '/wiki/Wikipedia:In_the_news/Candidates', '/wiki/October_27', '/wiki/File:City_Hall_Subway_station.jpg', '/wiki/City_Hall_station_(IRT_Lexington_Avenue_Line)', '/wiki/1904', '/wiki/Early_history_of_the_IRT_subway', '/wiki/New_York_City_Subway', '/wiki/New_York_City_Hall', '/wiki/Harlem', '/wiki/1914', '/wiki/World_War_I', '/wiki/Royal_Navy', '/wiki/HMS_Audacious_(1912)', '/wiki/Naval_mine', '/wiki/1946', '/wiki/1946_Bihar_riots', '/wiki/Bihar', '/wiki/1967', '/wiki/Philip_Berrigan', '/wiki/Vietnam_War', '/wiki/Selective_Service_System', '/wiki/Baltimore', '/wiki/1993', '/wiki/Wider%C3%B8e_Flight_744', '/wiki/Controlled_flight_into_terrain', '/wiki/Namsos_Airport', '/wiki/Abulfeda', '/wiki/William_Gillies_(Australian_politician)', '/wiki/Judy_LaMarsh', '/wiki/Li_Keqiang', '/wiki/October_26', '/wiki/October_27', '/wiki/October_28', '/wiki/Wikipedia:Selected_anniversaries/October', 'https://lists.wikimedia.org/postorius/lists/daily-article-l.lists.wikimedia.org/', '/wiki/List_of_days_of_the_year', '/wiki/Wikipedia:Selected_anniversaries', '/wiki/File:Acer_negundo_female_flowers_-_Keila.jpg', '/wiki/Acer_negundo', '/wiki/Maple', '/wiki/Sapindaceae', '/wiki/Invasive_species', '/wiki/Naturalisation_(biology)', '/wiki/Raceme', '/wiki/Keila', 'https://commons.wikimedia.org/wiki/User:Iifar', '/wiki/Template:POTD/2024-10-26', '/wiki/Template:POTD/2024-10-25', '/wiki/Template:POTD/2024-10-24', '/wiki/Wikipedia:Picture_of_the_day/Archive', '/wiki/Wikipedia:Featured_pictures', '/wiki/Wikipedia:Community_portal', '/wiki/Wikipedia:Village_pump', '/wiki/Wikipedia:News', '/wiki/Wikipedia:Teahouse', '/wiki/Wikipedia:Help_desk', '/wiki/Wikipedia:Reference_desk', '/wiki/Wikipedia:Contents/Portals', '/wiki/Wikimedia_Foundation', 'https://wikimediafoundation.org/our-work/wikimedia-projects/', 'https://commons.wikimedia.org/wiki/', 'https://commons.wikimedia.org/wiki/', 'https://www.mediawiki.org/wiki/', 'https://www.mediawiki.org/wiki/', 'https://meta.wikimedia.org/wiki/', 'https://meta.wikimedia.org/wiki/', 'https://en.wikibooks.org/wiki/', 'https://en.wikibooks.org/wiki/', 'https://www.wikidata.org/wiki/', 'https://www.wikidata.org/wiki/', 'https://en.wikinews.org/wiki/', 'https://en.wikinews.org/wiki/', 'https://en.wikiquote.org/wiki/', 'https://en.wikiquote.org/wiki/', 'https://en.wikisource.org/wiki/', 'https://en.wikisource.org/wiki/', 'https://species.wikimedia.org/wiki/', 'https://species.wikimedia.org/wiki/', 'https://en.wikiversity.org/wiki/', 'https://en.wikiversity.org/wiki/', 'https://en.wikivoyage.org/wiki/', 'https://en.wikivoyage.org/wiki/', 'https://en.wiktionary.org/wiki/', 'https://en.wiktionary.org/wiki/', 'https://en.wiktionary.org/wiki/', '/wiki/English_language', 'https://meta.wikimedia.org/wiki/List_of_Wikipedias', 'https://ar.wikipedia.org/wiki/', 'https://de.wikipedia.org/wiki/', 'https://es.wikipedia.org/wiki/', 'https://fa.wikipedia.org/wiki/', 'https://fr.wikipedia.org/wiki/', 'https://it.wikipedia.org/wiki/', 'https://nl.wikipedia.org/wiki/', 'https://ja.wikipedia.org/wiki/', 'https://pl.wikipedia.org/wiki/', 'https://pt.wikipedia.org/wiki/', 'https://ru.wikipedia.org/wiki/', 'https://sv.wikipedia.org/wiki/', 'https://uk.wikipedia.org/wiki/', 'https://vi.wikipedia.org/wiki/', 'https://zh.wikipedia.org/wiki/', 'https://id.wikipedia.org/wiki/', 'https://ms.wikipedia.org/wiki/', 'https://zh-min-nan.wikipedia.org/wiki/', 'https://bg.wikipedia.org/wiki/', 'https://ca.wikipedia.org/wiki/', 'https://cs.wikipedia.org/wiki/', 'https://da.wikipedia.org/wiki/', 'https://eo.wikipedia.org/wiki/', 'https://eu.wikipedia.org/wiki/', 'https://he.wikipedia.org/wiki/', 'https://hy.wikipedia.org/wiki/', 'https://ko.wikipedia.org/wiki/', 'https://hu.wikipedia.org/wiki/', 'https://no.wikipedia.org/wiki/', 'https://ro.wikipedia.org/wiki/', 'https://simple.wikipedia.org/wiki/', 'https://sr.wikipedia.org/wiki/', 'https://sh.wikipedia.org/wiki/', 'https://fi.wikipedia.org/wiki/', 'https://tr.wikipedia.org/wiki/', 'https://uz.wikipedia.org/wiki/', 'https://ast.wikipedia.org/wiki/', 'https://az.wikipedia.org/wiki/', 'https://bn.wikipedia.org/wiki/', 'https://bs.wikipedia.org/wiki/', 'https://ckb.wikipedia.org/wiki/', 'https://et.wikipedia.org/wiki/', 'https://el.wikipedia.org/wiki/', 'https://fy.wikipedia.org/wiki/', 'https://ga.wikipedia.org/wiki/', 'https://gl.wikipedia.org/wiki/', 'https://hr.wikipedia.org/wiki/', 'https://ka.wikipedia.org/wiki/', 'https://ku.wikipedia.org/wiki/', 'https://lv.wikipedia.org/wiki/', 'https://lt.wikipedia.org/wiki/', 'https://ml.wikipedia.org/wiki/', 'https://mk.wikipedia.org/wiki/', 'https://my.wikipedia.org/wiki/', 'https://nn.wikipedia.org/wiki/', 'https://pa.wikipedia.org/wiki/', 'https://sq.wikipedia.org/wiki/', 'https://sk.wikipedia.org/wiki/', 'https://sl.wikipedia.org/wiki/', 'https://th.wikipedia.org/wiki/', 'https://te.wikipedia.org/wiki/', 'https://ur.wikipedia.org/wiki/', 'https://en.wikipedia.org/w/index.php?title=Main_Page&oldid=1225315602', 'https://ar.wikipedia.org/wiki/', 'https://az.wikipedia.org/wiki/', 'https://bn.wikipedia.org/wiki/', 'https://bg.wikipedia.org/wiki/', 'https://bs.wikipedia.org/wiki/', 'https://ca.wikipedia.org/wiki/', 'https://cs.wikipedia.org/wiki/', 'https://da.wikipedia.org/wiki/', 'https://de.wikipedia.org/wiki/', 'https://et.wikipedia.org/wiki/', 'https://el.wikipedia.org/wiki/', 'https://es.wikipedia.org/wiki/', 'https://eo.wikipedia.org/wiki/', 'https://eu.wikipedia.org/wiki/', 'https://fa.wikipedia.org/wiki/', 'https://fr.wikipedia.org/wiki/', 'https://gl.wikipedia.org/wiki/', 'https://ko.wikipedia.org/wiki/', 'https://hr.wikipedia.org/wiki/', 'https://id.wikipedia.org/wiki/', 'https://it.wikipedia.org/wiki/', 'https://he.wikipedia.org/wiki/', 'https://ka.wikipedia.org/wiki/', 'https://lv.wikipedia.org/wiki/', 'https://lt.wikipedia.org/wiki/', 'https://hu.wikipedia.org/wiki/', 'https://mk.wikipedia.org/wiki/', 'https://ms.wikipedia.org/wiki/', 'https://nl.wikipedia.org/wiki/', 'https://ja.wikipedia.org/wiki/', 'https://no.wikipedia.org/wiki/', 'https://nn.wikipedia.org/wiki/', 'https://pl.wikipedia.org/wiki/', 'https://pt.wikipedia.org/wiki/', 'https://ro.wikipedia.org/wiki/', 'https://ru.wikipedia.org/wiki/', 'https://simple.wikipedia.org/wiki/', 'https://sk.wikipedia.org/wiki/', 'https://sl.wikipedia.org/wiki/', 'https://ckb.wikipedia.org/wiki/', 'https://sr.wikipedia.org/wiki/', 'https://sh.wikipedia.org/wiki/', 'https://fi.wikipedia.org/wiki/', 'https://sv.wikipedia.org/wiki/', 'https://th.wikipedia.org/wiki/', 'https://tr.wikipedia.org/wiki/', 'https://uk.wikipedia.org/wiki/', 'https://vi.wikipedia.org/wiki/', 'https://zh.wikipedia.org/wiki/', '/wiki/Wikipedia:Text_of_the_Creative_Commons_Attribution-ShareAlike_4.0_International_License', 'https://foundation.wikimedia.org/wiki/Special:MyLanguage/Policy:Terms_of_Use', 'https://foundation.wikimedia.org/wiki/Special:MyLanguage/Policy:Privacy_policy', 'https://wikimediafoundation.org/', 'https://foundation.wikimedia.org/wiki/Special:MyLanguage/Policy:Privacy_policy', '/wiki/Wikipedia:About', '/wiki/Wikipedia:General_disclaimer', '//en.wikipedia.org/wiki/Wikipedia:Contact_us', 'https://foundation.wikimedia.org/wiki/Special:MyLanguage/Policy:Universal_Code_of_Conduct', 'https://developer.wikimedia.org', 'https://stats.wikimedia.org/#/en.wikipedia.org', 'https://foundation.wikimedia.org/wiki/Special:MyLanguage/Policy:Cookie_statement', '//en.m.wikipedia.org/w/index.php?title=Main_Page&mobileaction=toggle_view_mobile', 'https://wikimediafoundation.org/', 'https://www.mediawiki.org/']\n",
      "\n",
      "\n",
      "Images:\n",
      " ['/static/images/icons/wikipedia.png', '/static/images/mobile/copyright/wikipedia-wordmark-en.svg', '/static/images/mobile/copyright/wikipedia-tagline-en.svg', '//upload.wikimedia.org/wikipedia/commons/thumb/d/d6/Aly%2C_the_Mysterious_Egyptian.jpg/119px-Aly%2C_the_Mysterious_Egyptian.jpg', '//upload.wikimedia.org/wikipedia/commons/thumb/d/d2/New_York_Hall_of_Science_%2848613180593%29.jpg/162px-New_York_Hall_of_Science_%2848613180593%29.jpg', '//upload.wikimedia.org/wikipedia/commons/thumb/1/14/Turkish_Aerospace_Industries_headquarters_attack_perpetrators.jpg/155px-Turkish_Aerospace_Industries_headquarters_attack_perpetrators.jpg', '//upload.wikimedia.org/wikipedia/commons/thumb/f/fb/City_Hall_Subway_station.jpg/157px-City_Hall_Subway_station.jpg', '//upload.wikimedia.org/wikipedia/commons/thumb/9/9c/Acer_negundo_female_flowers_-_Keila.jpg/300px-Acer_negundo_female_flowers_-_Keila.jpg', '//upload.wikimedia.org/wikipedia/en/thumb/4/4a/Commons-logo.svg/31px-Commons-logo.svg.png', '//upload.wikimedia.org/wikipedia/commons/thumb/a/a6/MediaWiki-2020-icon.svg/35px-MediaWiki-2020-icon.svg.png', '//upload.wikimedia.org/wikipedia/commons/thumb/7/75/Wikimedia_Community_Logo.svg/35px-Wikimedia_Community_Logo.svg.png', '//upload.wikimedia.org/wikipedia/commons/thumb/f/fa/Wikibooks-logo.svg/35px-Wikibooks-logo.svg.png', '//upload.wikimedia.org/wikipedia/commons/thumb/f/ff/Wikidata-logo.svg/47px-Wikidata-logo.svg.png', '//upload.wikimedia.org/wikipedia/commons/thumb/2/24/Wikinews-logo.svg/51px-Wikinews-logo.svg.png', '//upload.wikimedia.org/wikipedia/commons/thumb/f/fa/Wikiquote-logo.svg/35px-Wikiquote-logo.svg.png', '//upload.wikimedia.org/wikipedia/commons/thumb/4/4c/Wikisource-logo.svg/35px-Wikisource-logo.svg.png', '//upload.wikimedia.org/wikipedia/commons/thumb/d/df/Wikispecies-logo.svg/35px-Wikispecies-logo.svg.png', '//upload.wikimedia.org/wikipedia/commons/thumb/0/0b/Wikiversity_logo_2017.svg/41px-Wikiversity_logo_2017.svg.png', '//upload.wikimedia.org/wikipedia/commons/thumb/d/dd/Wikivoyage-Logo-v3-icon.svg/35px-Wikivoyage-Logo-v3-icon.svg.png', '//upload.wikimedia.org/wikipedia/en/thumb/0/06/Wiktionary-logo-v2.svg/35px-Wiktionary-logo-v2.svg.png', '//upload.wikimedia.org/wikipedia/commons/thumb/e/ec/Wiktionary-logo.svg/41px-Wiktionary-logo.svg.png', 'https://login.wikimedia.org/wiki/Special:CentralAutoLogin/start?type=1x1', '/static/images/footer/wikimedia-button.svg', '/w/resources/assets/poweredby_mediawiki.svg']\n",
      "\n",
      "\n",
      "Texts:\n",
      " [\"Hadji Ali (c.\\u20091888–1892\\xa0– 1937) was a vaudeville performance artist, thought to be of Egyptian descent, who was famous for acts of controlled regurgitation. His feats included water spouting, smoke swallowing and nut and handkerchief swallowing followed by disgorgement in an order chosen by the audience. The mainstay of Ali's act was water spouting (poster pictured). After swallowing 60 to 100 glasses of water at a time, he spouted it in a continuous stream sometimes for up to one minute. Ali's most famous stunt, and the highlight of his act, was drinking water followed by kerosene, and then acting by turns as a human flamethrower and fire extinguisher as he expelled the two liquids onto a theatrical prop. Ali had a dedicated following on the vaudeville circuit in the United States and performed for heads of state, including Tsar Nicholas\\xa0II of Russia. After he died in England, his body was offered to Johns Hopkins University for study, though the offer was declined. (Full\\xa0article...)\\n\", 'October 27\\n', 'Acer negundo, also known as the box elder, is a species of maple in the family Sapindaceae, native to North America. It is a fast-growing, short-lived tree with opposite, ash-like compound leaves. It is sometimes considered a weedy or invasive species, and has been naturalized throughout much of the world. It grows up to 10 to 25 metres (35 to 80 feet) tall, with a trunk diameter of 30 to 50 centimetres (12 to 20 inches). Male and female flowers appear on separate plants, with flowers on male plants generally appearing in clusters of four and flowers on female plants appearing as a raceme. These flowers of a female A.\\xa0negundo plant were photographed in Keila, Estonia.\\n', 'Photograph credit: Ivar Leidus', 'Wikipedia is written by volunteer editors and hosted by the Wikimedia Foundation, a non-profit organization that also hosts a range of other volunteer projects:\\n', 'This Wikipedia is written in English. Many other Wikipedias are available; some of the largest are listed below.\\n']\n",
      "\n",
      "\n"
     ]
    }
   ],
   "source": [
    "#  Extracting Links, Images, and text from a Webpage\n",
    "links= [a['href'] for a in soup.find_all('a',href=True)]\n",
    "print(\"Links:\\n\",links)\n",
    "print(\"\\n\")\n",
    "\n",
    "images= [img['src'] for img in soup.find_all('img',src=True)]\n",
    "print(\"Images:\\n\",images)\n",
    "print(\"\\n\")\n",
    "\n",
    "texts= [p.get_text() for p in soup.find_all('p')]\n",
    "print(\"Texts:\\n\",texts)\n",
    "print(\"\\n\")"
   ]
  },
  {
   "cell_type": "code",
   "execution_count": 46,
   "id": "12fbfd77-4c64-44b0-8a5f-c3f73b46f63c",
   "metadata": {},
   "outputs": [
    {
     "name": "stdout",
     "output_type": "stream",
     "text": [
      "Scraped_Data successfully saved as Scaped_Data.csv\n",
      "\n",
      "Contents of the Scraped_Data.csv file:\n",
      "                      web_link  \\\n",
      "0                 #bodyContent   \n",
      "1              /wiki/Main_Page   \n",
      "2     /wiki/Wikipedia:Contents   \n",
      "3  /wiki/Portal:Current_events   \n",
      "4         /wiki/Special:Random   \n",
      "5        /wiki/Wikipedia:About   \n",
      "\n",
      "                                          web_images  \\\n",
      "0                 /static/images/icons/wikipedia.png   \n",
      "1  /static/images/mobile/copyright/wikipedia-word...   \n",
      "2  /static/images/mobile/copyright/wikipedia-tagl...   \n",
      "3  //upload.wikimedia.org/wikipedia/commons/thumb...   \n",
      "4  //upload.wikimedia.org/wikipedia/commons/thumb...   \n",
      "5  //upload.wikimedia.org/wikipedia/commons/thumb...   \n",
      "\n",
      "                                           web_texts  \n",
      "0  Hadji Ali (c. 1888–1892 – 1937) was a vaudevil...  \n",
      "1                                       October 27\\n  \n",
      "2  Acer negundo, also known as the box elder, is ...  \n",
      "3                     Photograph credit: Ivar Leidus  \n",
      "4  Wikipedia is written by volunteer editors and ...  \n",
      "5  This Wikipedia is written in English. Many oth...  \n"
     ]
    }
   ],
   "source": [
    "#  Storing Scraped data in a CSV file using Pandas\n",
    "import pandas as pd\n",
    "\n",
    "min_length=min(len(links),len(images),len(texts))\n",
    "links=links[:min_length]\n",
    "images=images[:min_length]\n",
    "texts=texts[:min_length]\n",
    "data={\n",
    "    'web_link':links,\n",
    "    'web_images':images,\n",
    "    'web_texts':texts\n",
    "}\n",
    "df = pd.DataFrame(data)\n",
    "\n",
    "csv_file=\"Scraped_Data.csv\"\n",
    "df.to_csv(\"Scraped_Data.csv\",index=False)\n",
    "\n",
    "print(\"Scraped_Data successfully saved as Scaped_Data.csv\")\n",
    "\n",
    "print(\"\\nContents of the Scraped_Data.csv file:\")\n",
    "print(pd.read_csv(csv_file))"
   ]
  },
  {
   "cell_type": "code",
   "execution_count": null,
   "id": "8519b5d4-70e5-4349-82e9-f43708680196",
   "metadata": {},
   "outputs": [],
   "source": []
  }
 ],
 "metadata": {
  "kernelspec": {
   "display_name": "Python 3 (ipykernel)",
   "language": "python",
   "name": "python3"
  },
  "language_info": {
   "codemirror_mode": {
    "name": "ipython",
    "version": 3
   },
   "file_extension": ".py",
   "mimetype": "text/x-python",
   "name": "python",
   "nbconvert_exporter": "python",
   "pygments_lexer": "ipython3",
   "version": "3.12.6"
  }
 },
 "nbformat": 4,
 "nbformat_minor": 5
}
